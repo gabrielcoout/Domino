{
 "cells": [
  {
   "cell_type": "code",
   "execution_count": 1,
   "metadata": {},
   "outputs": [],
   "source": [
    "import numpy as np\n",
    "import pandas as pd\n",
    "import matplotlib.pyplot as plt\n",
    "import random "
   ]
  },
  {
   "cell_type": "code",
   "execution_count": 43,
   "metadata": {},
   "outputs": [],
   "source": [
    "def gameplay():\n",
    "    \"\"\"Jogo:\n",
    "        Embaralhar as peças\n",
    "        Checar se algum jogador possui 4 ou mais carrões\n",
    "        Definir ordem dos jogadores\n",
    "        Checar quais as pontas\n",
    "        Executar uma jogada\n",
    "        Checar se alguém ganhou\n",
    "        Repetir/Terminar\"\"\"\n",
    "        \n",
    "    N = 6\n",
    "    keep_playing = True\n",
    "    edge = None\n",
    "\n",
    "    while keep_playing:\n",
    "        hand = shuffle_tiles(N)\n",
    "        if checar_carroes(hand, 6):\n",
    "            break\n",
    "        else:\n",
    "            continue\n",
    "    while keep_playing:\n",
    "        player_order_list = ['p1','p2','p3','p4']\n",
    "        for player in player_order_list:\n",
    "            p = hand[player]\n",
    "            print(p)\n",
    "            legal_action = legal_play(p, edge)\n",
    "            jogada(legal_action, p, edge)\n",
    "            if len(p)==0:\n",
    "                keep_playing = False\n",
    "                print(f'{player} won the game')\n",
    "            hand[player] = p\n",
    "            \n",
    "\n",
    "            \n",
    "                  "
   ]
  },
  {
   "cell_type": "code",
   "execution_count": 44,
   "metadata": {},
   "outputs": [
    {
     "name": "stdout",
     "output_type": "stream",
     "text": [
      "[(4, 5), (0, 3), (1, 4), (0, 4), (1, 3), (0, 1), (0, 0)]\n",
      "As pontas são None\n"
     ]
    },
    {
     "ename": "ValueError",
     "evalue": "list.remove(x): x not in list",
     "output_type": "error",
     "traceback": [
      "\u001b[1;31m---------------------------------------------------------------------------\u001b[0m",
      "\u001b[1;31mValueError\u001b[0m                                Traceback (most recent call last)",
      "\u001b[1;32mc:\\Users\\gabri\\Workplace\\Domino\\main.ipynb Cell 3\u001b[0m in \u001b[0;36m<cell line: 1>\u001b[1;34m()\u001b[0m\n\u001b[1;32m----> <a href='vscode-notebook-cell:/c%3A/Users/gabri/Workplace/Domino/main.ipynb#X13sZmlsZQ%3D%3D?line=0'>1</a>\u001b[0m gameplay()\n",
      "\u001b[1;32mc:\\Users\\gabri\\Workplace\\Domino\\main.ipynb Cell 3\u001b[0m in \u001b[0;36mgameplay\u001b[1;34m()\u001b[0m\n\u001b[0;32m     <a href='vscode-notebook-cell:/c%3A/Users/gabri/Workplace/Domino/main.ipynb#X13sZmlsZQ%3D%3D?line=24'>25</a>\u001b[0m \u001b[39mprint\u001b[39m(p)\n\u001b[0;32m     <a href='vscode-notebook-cell:/c%3A/Users/gabri/Workplace/Domino/main.ipynb#X13sZmlsZQ%3D%3D?line=25'>26</a>\u001b[0m legal_action \u001b[39m=\u001b[39m legal_play(p, edge)\n\u001b[1;32m---> <a href='vscode-notebook-cell:/c%3A/Users/gabri/Workplace/Domino/main.ipynb#X13sZmlsZQ%3D%3D?line=26'>27</a>\u001b[0m jogada(legal_action, p, edge)\n\u001b[0;32m     <a href='vscode-notebook-cell:/c%3A/Users/gabri/Workplace/Domino/main.ipynb#X13sZmlsZQ%3D%3D?line=27'>28</a>\u001b[0m \u001b[39mif\u001b[39;00m \u001b[39mlen\u001b[39m(p)\u001b[39m==\u001b[39m\u001b[39m0\u001b[39m:\n\u001b[0;32m     <a href='vscode-notebook-cell:/c%3A/Users/gabri/Workplace/Domino/main.ipynb#X13sZmlsZQ%3D%3D?line=28'>29</a>\u001b[0m     keep_playing \u001b[39m=\u001b[39m \u001b[39mFalse\u001b[39;00m\n",
      "\u001b[1;32mc:\\Users\\gabri\\Workplace\\Domino\\main.ipynb Cell 3\u001b[0m in \u001b[0;36mjogada\u001b[1;34m(legal_actions, player, edge)\u001b[0m\n\u001b[0;32m     <a href='vscode-notebook-cell:/c%3A/Users/gabri/Workplace/Domino/main.ipynb#X13sZmlsZQ%3D%3D?line=10'>11</a>\u001b[0m     edge \u001b[39m=\u001b[39m tile\n\u001b[0;32m     <a href='vscode-notebook-cell:/c%3A/Users/gabri/Workplace/Domino/main.ipynb#X13sZmlsZQ%3D%3D?line=11'>12</a>\u001b[0m     index \u001b[39m=\u001b[39m player\u001b[39m.\u001b[39mindex(tile)\n\u001b[1;32m---> <a href='vscode-notebook-cell:/c%3A/Users/gabri/Workplace/Domino/main.ipynb#X13sZmlsZQ%3D%3D?line=12'>13</a>\u001b[0m     player\u001b[39m.\u001b[39;49mremove(index)\n\u001b[0;32m     <a href='vscode-notebook-cell:/c%3A/Users/gabri/Workplace/Domino/main.ipynb#X13sZmlsZQ%3D%3D?line=13'>14</a>\u001b[0m \u001b[39melse\u001b[39;00m:\n\u001b[0;32m     <a href='vscode-notebook-cell:/c%3A/Users/gabri/Workplace/Domino/main.ipynb#X13sZmlsZQ%3D%3D?line=14'>15</a>\u001b[0m     \u001b[39mprint\u001b[39m(\u001b[39m'\u001b[39m\u001b[39mInput inválido\u001b[39m\u001b[39m'\u001b[39m)\n",
      "\u001b[1;31mValueError\u001b[0m: list.remove(x): x not in list"
     ]
    }
   ],
   "source": [
    "gameplay()"
   ]
  },
  {
   "cell_type": "code",
   "execution_count": 2,
   "metadata": {},
   "outputs": [],
   "source": [
    "def checar_carroes(hands, N):\n",
    "    for player in hands:\n",
    "        count = 0\n",
    "        for index in range(7):\n",
    "            if hands[player][index][0]==hands[player][index][1]:\n",
    "                count += 1\n",
    "            if count == 4:\n",
    "                return False\n",
    "            else:\n",
    "                pass\n",
    "    return True"
   ]
  },
  {
   "cell_type": "code",
   "execution_count": 3,
   "metadata": {},
   "outputs": [],
   "source": [
    "def shuffle_tiles(N):\n",
    "    tiles = [(i,j) for i in range(N+1) for j in range(N+1) if i<=j]\n",
    "    np.random.shuffle(tiles)\n",
    "    initial_state = dict()\n",
    "    initial_state['p1'] = tiles[0:7]\n",
    "    initial_state['p2'] = tiles[7:14]\n",
    "    initial_state['p3'] = tiles[14:21]\n",
    "    initial_state['p4'] = tiles[21:28]\n",
    "    return initial_state\n"
   ]
  },
  {
   "cell_type": "code",
   "execution_count": 4,
   "metadata": {},
   "outputs": [],
   "source": [
    "def checar_vencer(player):\n",
    "    global keep_playing\n",
    "    if len(hand[player])==0:\n",
    "        keep_playing = False\n",
    "        print(f'{player} won the game')"
   ]
  },
  {
   "cell_type": "code",
   "execution_count": 24,
   "metadata": {},
   "outputs": [
    {
     "data": {
      "text/plain": [
       "True"
      ]
     },
     "execution_count": 24,
     "metadata": {},
     "output_type": "execute_result"
    }
   ],
   "source": [
    "a = [1,3]\n",
    "c = tuple(a)\n",
    "c == (1,3)"
   ]
  },
  {
   "cell_type": "code",
   "execution_count": 6,
   "metadata": {},
   "outputs": [],
   "source": [
    "def legal_play(player, edge):\n",
    "    legal_actions = []\n",
    "    if isinstance(edge, type(None)):\n",
    "        legal_actions = player\n",
    "    else:\n",
    "        for i in player:\n",
    "            if i[0] == edge[0] or i[0] == edge[1]:\n",
    "                legal_actions.append(tuple(i))\n",
    "                continue\n",
    "            if i[1] == edge[0] or i[1] == edge[1]:\n",
    "                legal_actions.append(tuple(i))\n",
    "                continue\n",
    "    return legal_actions\n"
   ]
  },
  {
   "cell_type": "code",
   "execution_count": 6,
   "metadata": {},
   "outputs": [
    {
     "name": "stdout",
     "output_type": "stream",
     "text": [
      "Invalid input\n",
      "Invalid input\n",
      "Invalid input\n"
     ]
    }
   ],
   "source": [
    "k = True\n",
    "while k:\n",
    "    try:\n",
    "        a = int(input())\n",
    "    except ValueError:\n",
    "        print('Invalid input')\n",
    "        continue\n",
    "    k = False"
   ]
  },
  {
   "cell_type": "code",
   "execution_count": 1,
   "metadata": {},
   "outputs": [
    {
     "ename": "IndexError",
     "evalue": "list index out of range",
     "output_type": "error",
     "traceback": [
      "\u001b[1;31m---------------------------------------------------------------------------\u001b[0m",
      "\u001b[1;31mIndexError\u001b[0m                                Traceback (most recent call last)",
      "\u001b[1;32mc:\\Users\\gabri\\Workplace\\Domino\\test.ipynb Cell 10\u001b[0m in \u001b[0;36m<cell line: 2>\u001b[1;34m()\u001b[0m\n\u001b[0;32m      <a href='vscode-notebook-cell:/c%3A/Users/gabri/Workplace/Domino/test.ipynb#X12sZmlsZQ%3D%3D?line=0'>1</a>\u001b[0m a \u001b[39m=\u001b[39m [\u001b[39m1\u001b[39m,\u001b[39m4\u001b[39m,\u001b[39m5\u001b[39m,\u001b[39m6\u001b[39m,\u001b[39m1\u001b[39m,\u001b[39m2\u001b[39m,\u001b[39m34\u001b[39m,\u001b[39m5\u001b[39m,\u001b[39m7\u001b[39m]\n\u001b[1;32m----> <a href='vscode-notebook-cell:/c%3A/Users/gabri/Workplace/Domino/test.ipynb#X12sZmlsZQ%3D%3D?line=1'>2</a>\u001b[0m a[\u001b[39m10\u001b[39;49m]\n",
      "\u001b[1;31mIndexError\u001b[0m: list index out of range"
     ]
    }
   ],
   "source": [
    "a = [1,4,5,6,1,2,34,5,7]\n",
    "a[10]"
   ]
  },
  {
   "cell_type": "code",
   "execution_count": 42,
   "metadata": {},
   "outputs": [],
   "source": [
    "def jogada(legal_actions, player, edge):\n",
    "    print(f'As pontas são {edge}')\n",
    "    \n",
    "    if isinstance(edge, type(None)):\n",
    "        choice_1 = True\n",
    "        while choice_1:\n",
    "            tile = input(f'Escolha uma das pedras para jogar \\n {legal_actions} \\n')\n",
    "            tile = tuple(int(tile) for tile in tile.split(\",\"))\n",
    "            if tile in legal_actions:\n",
    "                choice_1 = False\n",
    "                edge = tile\n",
    "                index = player.index(tile)\n",
    "                player.remove(index)\n",
    "            else:\n",
    "                print('Input inválido')\n",
    "\n",
    "    choice_2 = True\n",
    "    \n",
    "    while choice_2:\n",
    "        tile = input(f'Escolha uma das pedras para jogar \\n {legal_actions} \\n')\n",
    "        tile = tuple(int(tile) for tile in tile.split(\",\"))\n",
    "        if tile in legal_actions:\n",
    "            choice_2 = False\n",
    "        else:\n",
    "            print('Input inválido')\n",
    "\n",
    "    if edge[0] == edge[1]:\n",
    "        choice_3 = True\n",
    "        while choice_3:\n",
    "            postion = int(input('Escolha a ponta que você quer jogar (0 ou 1)'))\n",
    "            if position == 0 or position == 1:\n",
    "                choice_3 = False\n",
    "            else:\n",
    "                print('Input inválido')\n",
    "    else:\n",
    "        for i in tile:\n",
    "            if i == edge[0]:\n",
    "                postion = 0\n",
    "            elif i == edge[1]:\n",
    "                position = 1\n",
    "            else: \n",
    "                continue\n",
    "\n",
    "    if tile[0] == edge[position]:\n",
    "        edge[position] = tile[1] \n",
    "        index = player.index(tile)\n",
    "        player.remove(index)\n",
    "        \n",
    "    if tile[1] == edge[position]:\n",
    "        edge[position] = tile[0] \n",
    "        index = player.index(tile)\n",
    "        player.remove(index)\n"
   ]
  },
  {
   "cell_type": "code",
   "execution_count": 39,
   "metadata": {},
   "outputs": [
    {
     "name": "stdout",
     "output_type": "stream",
     "text": [
      "[(5, 6), (3, 4), (4, 4), (1, 2), (0, 1), (1, 3), (2, 2)]\n"
     ]
    }
   ],
   "source": [
    "# b=shuffle_tiles(6)\n",
    "player=b['p1']\n",
    "edge=(3,3)\n",
    "legal_actions = legal_play(player,edge)\n",
    "print(player)\n"
   ]
  },
  {
   "cell_type": "code",
   "execution_count": 12,
   "metadata": {},
   "outputs": [
    {
     "data": {
      "text/plain": [
       "0     False\n",
       "1     False\n",
       "2     False\n",
       "3     False\n",
       "4     False\n",
       "5     False\n",
       "6      True\n",
       "7      True\n",
       "8     False\n",
       "9     False\n",
       "10    False\n",
       "11    False\n",
       "12    False\n",
       "13    False\n",
       "14     True\n",
       "15     True\n",
       "16    False\n",
       "17    False\n",
       "18    False\n",
       "19    False\n",
       "20    False\n",
       "21    False\n",
       "22     True\n",
       "23     True\n",
       "24    False\n",
       "25    False\n",
       "26    False\n",
       "27    False\n",
       "28    False\n",
       "dtype: bool"
      ]
     },
     "execution_count": 12,
     "metadata": {},
     "output_type": "execute_result"
    }
   ],
   "source": [
    "x = np.arange(1,30,1)\n",
    "an = pd.Series((x **2 + x )* 1/2)\n",
    "an%4==0\n"
   ]
  }
 ],
 "metadata": {
  "kernelspec": {
   "display_name": "Python 3",
   "language": "python",
   "name": "python3"
  },
  "language_info": {
   "codemirror_mode": {
    "name": "ipython",
    "version": 3
   },
   "file_extension": ".py",
   "mimetype": "text/x-python",
   "name": "python",
   "nbconvert_exporter": "python",
   "pygments_lexer": "ipython3",
   "version": "3.10.3"
  },
  "orig_nbformat": 4,
  "vscode": {
   "interpreter": {
    "hash": "b1be5a1e9e85905d3e4e97ef1b769f5caa870a8a58c9f9e0ae488b6f0a0e1baf"
   }
  }
 },
 "nbformat": 4,
 "nbformat_minor": 2
}
gitignore
